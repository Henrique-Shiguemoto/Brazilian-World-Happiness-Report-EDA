{
 "cells": [
  {
   "cell_type": "markdown",
   "id": "dcef5ec3",
   "metadata": {},
   "source": [
    "# World Happiness Brazilian Report Analysis"
   ]
  },
  {
   "cell_type": "markdown",
   "id": "26e46dde",
   "metadata": {},
   "source": [
    "## Importing data"
   ]
  },
  {
   "cell_type": "code",
   "execution_count": 81,
   "id": "2add248f",
   "metadata": {},
   "outputs": [],
   "source": [
    "import pandas as pd\n",
    "import matplotlib.pyplot as plt\n",
    "import seaborn as sns\n",
    "import plotly.express as px"
   ]
  },
  {
   "cell_type": "markdown",
   "id": "97f92e27",
   "metadata": {},
   "source": [
    "## Reading the data"
   ]
  },
  {
   "cell_type": "code",
   "execution_count": 82,
   "id": "49f72e2e",
   "metadata": {},
   "outputs": [
    {
     "name": "stdout",
     "output_type": "stream",
     "text": [
      "2020 columns: ['Country name', 'Regional indicator', 'Ladder score', 'Standard error of ladder score', 'upperwhisker', 'lowerwhisker', 'Logged GDP per capita', 'Social support', 'Healthy life expectancy', 'Freedom to make life choices', 'Generosity', 'Perceptions of corruption', 'Ladder score in Dystopia', 'Explained by: Log GDP per capita', 'Explained by: Social support', 'Explained by: Healthy life expectancy', 'Explained by: Freedom to make life choices', 'Explained by: Generosity', 'Explained by: Perceptions of corruption', 'Dystopia + residual']\n",
      "2021 columns: ['Country name', 'Regional indicator', 'Ladder score', 'Standard error of ladder score', 'upperwhisker', 'lowerwhisker', 'Logged GDP per capita', 'Social support', 'Healthy life expectancy', 'Freedom to make life choices', 'Generosity', 'Perceptions of corruption', 'Ladder score in Dystopia', 'Explained by: Log GDP per capita', 'Explained by: Social support', 'Explained by: Healthy life expectancy', 'Explained by: Freedom to make life choices', 'Explained by: Generosity', 'Explained by: Perceptions of corruption', 'Dystopia + residual']\n",
      "2022 columns: ['RANK', 'Country', 'Happiness score', 'Whisker-high', 'Whisker-low', 'Dystopia (1.83) + residual', 'Explained by: GDP per capita', 'Explained by: Social support', 'Explained by: Healthy life expectancy', 'Explained by: Freedom to make life choices', 'Explained by: Generosity', 'Explained by: Perceptions of corruption']\n",
      "2023 columns: ['Country name', 'Ladder score', 'Standard error of ladder score', 'upperwhisker', 'lowerwhisker', 'Logged GDP per capita', 'Social support', 'Healthy life expectancy', 'Freedom to make life choices', 'Generosity', 'Perceptions of corruption', 'Ladder score in Dystopia', 'Explained by: Log GDP per capita', 'Explained by: Social support', 'Explained by: Healthy life expectancy', 'Explained by: Freedom to make life choices', 'Explained by: Generosity', 'Explained by: Perceptions of corruption', 'Dystopia + residual']\n",
      "2024 columns: ['Country name', 'Ladder score', 'upperwhisker', 'lowerwhisker', 'Explained by: Log GDP per capita', 'Explained by: Social support', 'Explained by: Healthy life expectancy', 'Explained by: Freedom to make life choices', 'Explained by: Generosity', 'Explained by: Perceptions of corruption', 'Dystopia + residual']\n"
     ]
    }
   ],
   "source": [
    "# Reading excel files individually\n",
    "whr_2020 = pd.read_excel(\"data/WHR20_Data.xlsx\")\n",
    "whr_2021 = pd.read_excel(\"data/WHR21_Data.xlsx\")\n",
    "whr_2022 = pd.read_excel(\"data/WHR22_Data.xlsx\")\n",
    "whr_2023 = pd.read_excel(\"data/WHR23_Data.xlsx\")\n",
    "whr_2024 = pd.read_excel(\"data/WHR24_Data.xlsx\")\n",
    "\n",
    "# Filtering Brazil only\n",
    "whr_2020 = whr_2020[whr_2020['Country name'] == 'Brazil']\n",
    "whr_2021 = whr_2021[whr_2021['Country name'] == 'Brazil']\n",
    "whr_2022 = whr_2022[whr_2022['Country'] == 'Brazil']\n",
    "whr_2023 = whr_2023[whr_2023['Country name'] == 'Brazil']\n",
    "whr_2024 = whr_2024[whr_2024['Country name'] == 'Brazil']\n",
    "\n",
    "# Columns don't match!\n",
    "print(\"2020 columns: \" + str(list(whr_2020.columns)))\n",
    "print(\"2021 columns: \" + str(list(whr_2021.columns)))\n",
    "print(\"2022 columns: \" + str(list(whr_2022.columns)))\n",
    "print(\"2023 columns: \" + str(list(whr_2023.columns)))\n",
    "print(\"2024 columns: \" + str(list(whr_2024.columns)))"
   ]
  },
  {
   "cell_type": "markdown",
   "id": "cc80eda7",
   "metadata": {},
   "source": [
    "## Cleaning data"
   ]
  },
  {
   "cell_type": "code",
   "execution_count": 83,
   "id": "ef490c3b",
   "metadata": {},
   "outputs": [],
   "source": [
    "desired_column_names = [\n",
    "    \"Country\",\n",
    "    \"Happiness score\",\n",
    "    \"Dystopia (1.83) + residual\",\n",
    "    \"Explained by: GDP per capita\",\n",
    "    \"Explained by: Social support\",\n",
    "    \"Explained by: Healthy life expectancy\",\n",
    "    \"Explained by: Freedom to make life choices\",\n",
    "    \"Explained by: Generosity\",\n",
    "    \"Explained by: Perceptions of corruption\"\n",
    "]"
   ]
  },
  {
   "cell_type": "code",
   "execution_count": 84,
   "id": "2ef140c8",
   "metadata": {},
   "outputs": [],
   "source": [
    "# Mapping for original column names by year type\n",
    "column_mappings = {\n",
    "    \"old\": {  # 2020, 2021, 2023-2024\n",
    "        'Country name': desired_column_names[0],\n",
    "        'Ladder score': desired_column_names[1],\n",
    "        'Dystopia + residual': desired_column_names[2],\n",
    "        'Explained by: Log GDP per capita': desired_column_names[3],\n",
    "        'Explained by: Social support': desired_column_names[4],\n",
    "        'Explained by: Healthy life expectancy': desired_column_names[5],\n",
    "        'Explained by: Freedom to make life choices': desired_column_names[6],\n",
    "        'Explained by: Generosity': desired_column_names[7],\n",
    "        'Explained by: Perceptions of corruption': desired_column_names[8]\n",
    "    },\n",
    "    \"new\": {  # 2022\n",
    "        'Country': desired_column_names[0],\n",
    "        'Happiness score': desired_column_names[1],\n",
    "        'Dystopia (1.83) + residual': desired_column_names[2],\n",
    "        'Explained by: GDP per capita': desired_column_names[3],\n",
    "        'Explained by: Social support': desired_column_names[4],\n",
    "        'Explained by: Healthy life expectancy': desired_column_names[5],\n",
    "        'Explained by: Freedom to make life choices': desired_column_names[6],\n",
    "        'Explained by: Generosity': desired_column_names[7],\n",
    "        'Explained by: Perceptions of corruption': desired_column_names[8]\n",
    "    }\n",
    "}\n",
    "\n",
    "def standardize_whr(df, year):\n",
    "    if year == 2022:\n",
    "        mapping = column_mappings[\"new\"]\n",
    "    else:\n",
    "        mapping = column_mappings[\"old\"]\n",
    "    return df[list(mapping.keys())].rename(columns=mapping)\n",
    "\n",
    "# Apply to each year\n",
    "whr_2020 = standardize_whr(whr_2020, 2020)\n",
    "whr_2021 = standardize_whr(whr_2021, 2021)\n",
    "whr_2022 = standardize_whr(whr_2022, 2022)\n",
    "whr_2023 = standardize_whr(whr_2023, 2023)\n",
    "whr_2024 = standardize_whr(whr_2024, 2024)\n",
    "\n",
    "whr_2020['year'] = 2020\n",
    "whr_2021['year'] = 2021\n",
    "whr_2022['year'] = 2022\n",
    "whr_2023['year'] = 2023\n",
    "whr_2024['year'] = 2024"
   ]
  },
  {
   "cell_type": "code",
   "execution_count": null,
   "id": "fc48c0a0",
   "metadata": {},
   "outputs": [
    {
     "name": "stdout",
     "output_type": "stream",
     "text": [
      "  Country  Happiness score  Dystopia (1.83) + residual  \\\n",
      "0  Brazil           6.3756                    2.571860   \n",
      "1  Brazil           6.3301                    3.014908   \n",
      "2  Brazil           6.2928                    2.360507   \n",
      "3  Brazil           6.1246                    2.205470   \n",
      "4  Brazil           6.2720                    2.068074   \n",
      "\n",
      "   Explained by: GDP per capita  Explained by: Social support  \\\n",
      "0                      0.952680                      1.363464   \n",
      "1                      1.027845                      0.943968   \n",
      "2                      1.461886                      1.044197   \n",
      "3                      1.454481                      1.250219   \n",
      "4                      1.429526                      1.268778   \n",
      "\n",
      "   Explained by: Healthy life expectancy  \\\n",
      "0                               0.766119   \n",
      "1                               0.570779   \n",
      "2                               0.614587   \n",
      "3                               0.387407   \n",
      "4                               0.547910   \n",
      "\n",
      "   Explained by: Freedom to make life choices  Explained by: Generosity  \\\n",
      "0                                    0.483293                  0.131675   \n",
      "1                                    0.514314                  0.141626   \n",
      "2                                    0.546346                  0.131041   \n",
      "3                                    0.558488                  0.131404   \n",
      "4                                    0.685224                  0.130039   \n",
      "\n",
      "   Explained by: Perceptions of corruption  year  \n",
      "0                                 0.106519  2020  \n",
      "1                                 0.116669  2021  \n",
      "2                                 0.134278  2022  \n",
      "3                                 0.137097  2023  \n",
      "4                                 0.142451  2024  \n",
      "(5, 10)\n"
     ]
    }
   ],
   "source": [
    "# Joining data through pd.concat().\n",
    "# I want to ignore previous indexes so I have one \"true\" index so it doesn't get confusing (ignore_index=True)\n",
    "# Also I want to have matching columns from all the years data, some years have more columns than others (join='inner')\n",
    "source_data = pd.concat([\n",
    "        whr_2020, \n",
    "        whr_2021, \n",
    "        whr_2022, \n",
    "        whr_2023, \n",
    "        whr_2024\n",
    "    ], ignore_index=True, join='inner'\n",
    ")\n",
    "\n",
    "print(source_data)\n",
    "print(source_data.shape)"
   ]
  }
 ],
 "metadata": {
  "kernelspec": {
   "display_name": "Python 3",
   "language": "python",
   "name": "python3"
  },
  "language_info": {
   "codemirror_mode": {
    "name": "ipython",
    "version": 3
   },
   "file_extension": ".py",
   "mimetype": "text/x-python",
   "name": "python",
   "nbconvert_exporter": "python",
   "pygments_lexer": "ipython3",
   "version": "3.13.5"
  }
 },
 "nbformat": 4,
 "nbformat_minor": 5
}
